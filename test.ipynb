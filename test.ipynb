{
 "cells": [
  {
   "cell_type": "code",
   "execution_count": 1,
   "metadata": {},
   "outputs": [
    {
     "name": "stderr",
     "output_type": "stream",
     "text": [
      "C:\\Users\\nicka\\anaconda3\\lib\\site-packages\\IPython\\core\\interactiveshell.py:3146: DtypeWarning: Columns (2,3,4,7,9,10,11,12,102) have mixed types.Specify dtype option on import or set low_memory=False.\n",
      "  has_raised = await self.run_ast_nodes(code_ast.body, cell_name,\n"
     ]
    }
   ],
   "source": [
    "# import pandas\n",
    "# df = pandas.read_csv(\"main.csv\")"
   ]
  },
  {
   "cell_type": "code",
   "execution_count": 5,
   "metadata": {},
   "outputs": [
    {
     "data": {
      "text/plain": [
       "['key',\n",
       " 'date',\n",
       " 'place_id',\n",
       " 'wikidata',\n",
       " 'datacommons',\n",
       " 'country_code',\n",
       " 'country_name',\n",
       " 'subregion1_code',\n",
       " 'subregion1_name',\n",
       " 'subregion2_code',\n",
       " 'subregion2_name',\n",
       " 'locality_code',\n",
       " 'locality_name',\n",
       " '3166-1-alpha-2',\n",
       " '3166-1-alpha-3',\n",
       " 'aggregation_level',\n",
       " 'new_confirmed',\n",
       " 'new_deceased',\n",
       " 'new_recovered',\n",
       " 'new_tested',\n",
       " 'total_confirmed',\n",
       " 'total_deceased',\n",
       " 'total_recovered',\n",
       " 'total_tested',\n",
       " 'new_hospitalized',\n",
       " 'total_hospitalized',\n",
       " 'current_hospitalized',\n",
       " 'new_intensive_care',\n",
       " 'total_intensive_care',\n",
       " 'current_intensive_care',\n",
       " 'new_ventilator',\n",
       " 'total_ventilator',\n",
       " 'current_ventilator',\n",
       " 'population',\n",
       " 'population_male',\n",
       " 'population_female',\n",
       " 'rural_population',\n",
       " 'urban_population',\n",
       " 'largest_city_population',\n",
       " 'clustered_population',\n",
       " 'population_density',\n",
       " 'human_development_index',\n",
       " 'population_age_00_09',\n",
       " 'population_age_10_19',\n",
       " 'population_age_20_29',\n",
       " 'population_age_30_39',\n",
       " 'population_age_40_49',\n",
       " 'population_age_50_59',\n",
       " 'population_age_60_69',\n",
       " 'population_age_70_79',\n",
       " 'population_age_80_89',\n",
       " 'population_age_90_99',\n",
       " 'population_age_80_and_older',\n",
       " 'gdp',\n",
       " 'gdp_per_capita',\n",
       " 'human_capital_index',\n",
       " 'open_street_maps',\n",
       " 'latitude',\n",
       " 'longitude',\n",
       " 'elevation',\n",
       " 'area',\n",
       " 'rural_area',\n",
       " 'urban_area',\n",
       " 'life_expectancy',\n",
       " 'smoking_prevalence',\n",
       " 'diabetes_prevalence',\n",
       " 'infant_mortality_rate',\n",
       " 'adult_male_mortality_rate',\n",
       " 'adult_female_mortality_rate',\n",
       " 'pollution_mortality_rate',\n",
       " 'comorbidity_mortality_rate',\n",
       " 'hospital_beds',\n",
       " 'nurses',\n",
       " 'physicians',\n",
       " 'health_expenditure',\n",
       " 'out_of_pocket_health_expenditure',\n",
       " 'mobility_retail_and_recreation',\n",
       " 'mobility_grocery_and_pharmacy',\n",
       " 'mobility_parks',\n",
       " 'mobility_transit_stations',\n",
       " 'mobility_workplaces',\n",
       " 'mobility_residential',\n",
       " 'school_closing',\n",
       " 'workplace_closing',\n",
       " 'cancel_public_events',\n",
       " 'restrictions_on_gatherings',\n",
       " 'public_transport_closing',\n",
       " 'stay_at_home_requirements',\n",
       " 'restrictions_on_internal_movement',\n",
       " 'international_travel_controls',\n",
       " 'income_support',\n",
       " 'debt_relief',\n",
       " 'fiscal_measures',\n",
       " 'international_support',\n",
       " 'public_information_campaigns',\n",
       " 'testing_policy',\n",
       " 'contact_tracing',\n",
       " 'emergency_investment_in_healthcare',\n",
       " 'investment_in_vaccines',\n",
       " 'facial_coverings',\n",
       " 'vaccination_policy',\n",
       " 'stringency_index',\n",
       " 'noaa_station',\n",
       " 'noaa_distance',\n",
       " 'average_temperature',\n",
       " 'minimum_temperature',\n",
       " 'maximum_temperature',\n",
       " 'rainfall',\n",
       " 'snowfall',\n",
       " 'dew_point',\n",
       " 'relative_humidity']"
      ]
     },
     "execution_count": 5,
     "metadata": {},
     "output_type": "execute_result"
    }
   ],
   "source": [
    "# df.head()\n",
    "\n",
    "list(df.columns)\n",
    "\n"
   ]
  },
  {
   "cell_type": "code",
   "execution_count": null,
   "metadata": {},
   "outputs": [],
   "source": [
    "import pandas\n",
    "df = pandas.read_csv(\"https://storage.googleapis.com/covid19-open-data/v2/latest/main.csv\")"
   ]
  },
  {
   "cell_type": "code",
   "execution_count": null,
   "metadata": {},
   "outputs": [],
   "source": []
  }
 ],
 "metadata": {
  "kernelspec": {
   "display_name": "Python 3",
   "language": "python",
   "name": "python3"
  },
  "language_info": {
   "codemirror_mode": {
    "name": "ipython",
    "version": 3
   },
   "file_extension": ".py",
   "mimetype": "text/x-python",
   "name": "python",
   "nbconvert_exporter": "python",
   "pygments_lexer": "ipython3",
   "version": "3.8.5"
  }
 },
 "nbformat": 4,
 "nbformat_minor": 4
}
