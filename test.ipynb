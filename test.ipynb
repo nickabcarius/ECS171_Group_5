{
 "cells": [
  {
   "cell_type": "code",
   "execution_count": 1,
   "metadata": {},
   "outputs": [],
   "source": [
    "import pandas\n",
    "# df = pandas.read_csv(\"https://storage.googleapis.com/covid19-open-data/v2/latest/main.csv\")\n",
    "\n",
    "df = pandas.read_csv(\".\\covid_us.csv\")\n",
    "df.drop(labels = \"Unnamed: 0\", axis = 1, inplace = True)\n"
   ]
  },
  {
   "cell_type": "code",
   "execution_count": 2,
   "metadata": {
    "scrolled": false
   },
   "outputs": [
    {
     "name": "stdout",
     "output_type": "stream",
     "text": [
      "<bound method NDFrame.head of              date              country_name subregion1_name  locality_name  \\\n",
      "0      2020-01-01  United States of America          Alaska            NaN   \n",
      "1      2020-01-02  United States of America          Alaska            NaN   \n",
      "2      2020-01-03  United States of America          Alaska            NaN   \n",
      "3      2020-01-04  United States of America          Alaska            NaN   \n",
      "4      2020-01-05  United States of America          Alaska            NaN   \n",
      "...           ...                       ...             ...            ...   \n",
      "26987  2021-04-22  United States of America         Wyoming            NaN   \n",
      "26988  2021-04-23  United States of America         Wyoming            NaN   \n",
      "26989  2021-04-24  United States of America         Wyoming            NaN   \n",
      "26990  2021-04-25  United States of America         Wyoming            NaN   \n",
      "26991  2021-04-26  United States of America         Wyoming            NaN   \n",
      "\n",
      "       new_confirmed  new_deceased  new_recovered  new_tested  \\\n",
      "0                NaN           NaN            NaN         NaN   \n",
      "1                NaN           NaN            NaN         NaN   \n",
      "2                NaN           NaN            NaN         NaN   \n",
      "3                NaN           NaN            NaN         NaN   \n",
      "4                NaN           NaN            NaN         NaN   \n",
      "...              ...           ...            ...         ...   \n",
      "26987           89.0           1.0            NaN      9005.0   \n",
      "26988           83.0           0.0            NaN         NaN   \n",
      "26989            0.0           0.0            NaN         NaN   \n",
      "26990            NaN           NaN            NaN         NaN   \n",
      "26991            NaN           NaN            NaN         NaN   \n",
      "\n",
      "       total_confirmed  total_deceased  ...  population_age_10_19  \\\n",
      "0                  NaN             NaN  ...              111045.0   \n",
      "1                  NaN             NaN  ...              111045.0   \n",
      "2                  NaN             NaN  ...              111045.0   \n",
      "3                  NaN             NaN  ...              111045.0   \n",
      "4                  NaN             NaN  ...              111045.0   \n",
      "...                ...             ...  ...                   ...   \n",
      "26987          57614.0           719.0  ...               78523.0   \n",
      "26988          57696.0           705.0  ...               78523.0   \n",
      "26989          57696.0           705.0  ...               78523.0   \n",
      "26990              NaN             NaN  ...               78523.0   \n",
      "26991              NaN             NaN  ...               78523.0   \n",
      "\n",
      "       population_age_20_29  population_age_30_39  population_age_40_49  \\\n",
      "0                  128022.0              113254.0              102310.0   \n",
      "1                  128022.0              113254.0              102310.0   \n",
      "2                  128022.0              113254.0              102310.0   \n",
      "3                  128022.0              113254.0              102310.0   \n",
      "4                  128022.0              113254.0              102310.0   \n",
      "...                     ...                   ...                   ...   \n",
      "26987               94403.0               84233.0               71877.0   \n",
      "26988               94403.0               84233.0               71877.0   \n",
      "26989               94403.0               84233.0               71877.0   \n",
      "26990               94403.0               84233.0               71877.0   \n",
      "26991               94403.0               84233.0               71877.0   \n",
      "\n",
      "       population_age_50_59  population_age_60_69  population_age_70_79  \\\n",
      "0                  116061.0               82608.0               35021.0   \n",
      "1                  116061.0               82608.0               35021.0   \n",
      "2                  116061.0               82608.0               35021.0   \n",
      "3                  116061.0               82608.0               35021.0   \n",
      "4                  116061.0               82608.0               35021.0   \n",
      "...                     ...                   ...                   ...   \n",
      "26987               91709.0               77560.0               44614.0   \n",
      "26988               91709.0               77560.0               44614.0   \n",
      "26989               91709.0               77560.0               44614.0   \n",
      "26990               91709.0               77560.0               44614.0   \n",
      "26991               91709.0               77560.0               44614.0   \n",
      "\n",
      "       population_age_80_89  population_age_90_99  population_age_80_and_older  \n",
      "0                   10657.0                2664.0                      13322.0  \n",
      "1                   10657.0                2664.0                      13322.0  \n",
      "2                   10657.0                2664.0                      13322.0  \n",
      "3                   10657.0                2664.0                      13322.0  \n",
      "4                   10657.0                2664.0                      13322.0  \n",
      "...                     ...                   ...                          ...  \n",
      "26987               17393.0                4348.0                      21742.0  \n",
      "26988               17393.0                4348.0                      21742.0  \n",
      "26989               17393.0                4348.0                      21742.0  \n",
      "26990               17393.0                4348.0                      21742.0  \n",
      "26991               17393.0                4348.0                      21742.0  \n",
      "\n",
      "[26992 rows x 36 columns]>\n",
      "['date', 'country_name', 'subregion1_name', 'locality_name', 'new_confirmed', 'new_deceased', 'new_recovered', 'new_tested', 'total_confirmed', 'total_deceased', 'total_recovered', 'total_tested', 'new_hospitalized', 'total_hospitalized', 'current_hospitalized', 'new_intensive_care', 'total_intensive_care', 'current_intensive_care', 'new_ventilator', 'total_ventilator', 'current_ventilator', 'population', 'population_male', 'population_female', 'population_density', 'population_age_00_09', 'population_age_10_19', 'population_age_20_29', 'population_age_30_39', 'population_age_40_49', 'population_age_50_59', 'population_age_60_69', 'population_age_70_79', 'population_age_80_89', 'population_age_90_99', 'population_age_80_and_older']\n"
     ]
    }
   ],
   "source": [
    "print(df.head)\n",
    "print(list(df.columns))\n"
   ]
  },
  {
   "cell_type": "code",
   "execution_count": 3,
   "metadata": {},
   "outputs": [],
   "source": [
    "# linear regression\n",
    "\n",
    "#do regression on the state\n",
    "def Regression(df, state):\n",
    " \n"
   ]
  }
 ],
 "metadata": {
  "kernelspec": {
   "display_name": "Python 3",
   "language": "python",
   "name": "python3"
  },
  "language_info": {
   "codemirror_mode": {
    "name": "ipython",
    "version": 3
   },
   "file_extension": ".py",
   "mimetype": "text/x-python",
   "name": "python",
   "nbconvert_exporter": "python",
   "pygments_lexer": "ipython3",
   "version": "3.8.5"
  }
 },
 "nbformat": 4,
 "nbformat_minor": 4
}
