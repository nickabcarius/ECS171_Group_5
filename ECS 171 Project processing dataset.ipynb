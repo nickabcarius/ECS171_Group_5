{
 "cells": [
  {
   "cell_type": "code",
   "execution_count": 1,
   "metadata": {},
   "outputs": [],
   "source": [
    "import pandas as pd\n",
    "import numpy as np\n",
    "df = pd.read_csv('covid_us.csv')\n",
    "df.drop(labels = \"Unnamed: 0\", axis = 1, inplace = True)"
   ]
  },
  {
   "cell_type": "code",
   "execution_count": 2,
   "metadata": {},
   "outputs": [
    {
     "data": {
      "text/plain": [
       "(26992, 36)"
      ]
     },
     "execution_count": 2,
     "metadata": {},
     "output_type": "execute_result"
    }
   ],
   "source": [
    "df.shape"
   ]
  },
  {
   "cell_type": "code",
   "execution_count": 3,
   "metadata": {},
   "outputs": [],
   "source": [
    "df_American_Samoa = df[df['subregion1_name'] == 'American Samoa'].index.tolist()\n",
    "df_District_of_Columbia = df[df['subregion1_name'] == 'District of Columbia'].index.tolist()\n",
    "df_Guam = df[df['subregion1_name'] == 'Guam'].index.tolist()\n",
    "df_Northern_Mariana_Islands = df[df['subregion1_name'] == 'Northern Mariana Islands'].index.tolist()\n",
    "df_Puerto_Rico = df[df['subregion1_name'] == 'Puerto Rico'].index.tolist()\n",
    "df_Virgin_Islands = df[df['subregion1_name'] == 'Virgin Islands'].index.tolist()\n",
    "df.drop(df_American_Samoa, inplace = True)\n",
    "df.drop(df_District_of_Columbia, inplace = True)\n",
    "df.drop(df_Guam, inplace = True)\n",
    "df.drop(df_Northern_Mariana_Islands, inplace = True)\n",
    "df.drop(df_Puerto_Rico, inplace = True)\n",
    "df.drop(df_Virgin_Islands, inplace = True)\n",
    "\n",
    "\n",
    "#remove all subregion1_name not in 50 states"
   ]
  },
  {
   "cell_type": "code",
   "execution_count": 4,
   "metadata": {},
   "outputs": [],
   "source": [
    "x = sorted(df['subregion1_name'].unique())\n",
    "d = {'states' : x}\n",
    "us_states = pd.DataFrame(data = d)\n",
    "\n",
    "df = df.sort_values(['subregion1_name', 'date'])\n",
    "df.reset_index(inplace = True)\n",
    "\n"
   ]
  },
  {
   "cell_type": "code",
   "execution_count": 5,
   "metadata": {},
   "outputs": [],
   "source": [
    "df['total_confirmed'] = df['total_confirmed'].fillna(0)               #Replace NA with 0 for total confirmed column\n",
    "df['total_confirmed'] = df['total_confirmed'].astype(np.int64)\n",
    "#df['subregion1_name'] = df['subregion1_name'].astype(pd.StringDtype())   #convert subregion1_name to string types"
   ]
  },
  {
   "cell_type": "code",
   "execution_count": 6,
   "metadata": {},
   "outputs": [
    {
     "data": {
      "text/html": [
       "<div>\n",
       "<style scoped>\n",
       "    .dataframe tbody tr th:only-of-type {\n",
       "        vertical-align: middle;\n",
       "    }\n",
       "\n",
       "    .dataframe tbody tr th {\n",
       "        vertical-align: top;\n",
       "    }\n",
       "\n",
       "    .dataframe thead th {\n",
       "        text-align: right;\n",
       "    }\n",
       "</style>\n",
       "<table border=\"1\" class=\"dataframe\">\n",
       "  <thead>\n",
       "    <tr style=\"text-align: right;\">\n",
       "      <th></th>\n",
       "      <th>index</th>\n",
       "      <th>date</th>\n",
       "      <th>country_name</th>\n",
       "      <th>subregion1_name</th>\n",
       "      <th>locality_name</th>\n",
       "      <th>new_confirmed</th>\n",
       "      <th>new_deceased</th>\n",
       "      <th>new_recovered</th>\n",
       "      <th>new_tested</th>\n",
       "      <th>total_confirmed</th>\n",
       "      <th>...</th>\n",
       "      <th>population_age_20_29</th>\n",
       "      <th>population_age_30_39</th>\n",
       "      <th>population_age_40_49</th>\n",
       "      <th>population_age_50_59</th>\n",
       "      <th>population_age_60_69</th>\n",
       "      <th>population_age_70_79</th>\n",
       "      <th>population_age_80_89</th>\n",
       "      <th>population_age_90_99</th>\n",
       "      <th>population_age_80_and_older</th>\n",
       "      <th>new_date</th>\n",
       "    </tr>\n",
       "  </thead>\n",
       "  <tbody>\n",
       "    <tr>\n",
       "      <th>0</th>\n",
       "      <td>482</td>\n",
       "      <td>2020-01-01</td>\n",
       "      <td>United States of America</td>\n",
       "      <td>Alabama</td>\n",
       "      <td>NaN</td>\n",
       "      <td>NaN</td>\n",
       "      <td>NaN</td>\n",
       "      <td>NaN</td>\n",
       "      <td>NaN</td>\n",
       "      <td>0</td>\n",
       "      <td>...</td>\n",
       "      <td>701742.0</td>\n",
       "      <td>680141.0</td>\n",
       "      <td>613936.0</td>\n",
       "      <td>666838.0</td>\n",
       "      <td>645125.0</td>\n",
       "      <td>414601.0</td>\n",
       "      <td>150889.0</td>\n",
       "      <td>37722.0</td>\n",
       "      <td>188612.0</td>\n",
       "      <td>20200101</td>\n",
       "    </tr>\n",
       "    <tr>\n",
       "      <th>1</th>\n",
       "      <td>483</td>\n",
       "      <td>2020-01-02</td>\n",
       "      <td>United States of America</td>\n",
       "      <td>Alabama</td>\n",
       "      <td>NaN</td>\n",
       "      <td>NaN</td>\n",
       "      <td>NaN</td>\n",
       "      <td>NaN</td>\n",
       "      <td>NaN</td>\n",
       "      <td>0</td>\n",
       "      <td>...</td>\n",
       "      <td>701742.0</td>\n",
       "      <td>680141.0</td>\n",
       "      <td>613936.0</td>\n",
       "      <td>666838.0</td>\n",
       "      <td>645125.0</td>\n",
       "      <td>414601.0</td>\n",
       "      <td>150889.0</td>\n",
       "      <td>37722.0</td>\n",
       "      <td>188612.0</td>\n",
       "      <td>20200102</td>\n",
       "    </tr>\n",
       "    <tr>\n",
       "      <th>2</th>\n",
       "      <td>484</td>\n",
       "      <td>2020-01-03</td>\n",
       "      <td>United States of America</td>\n",
       "      <td>Alabama</td>\n",
       "      <td>NaN</td>\n",
       "      <td>NaN</td>\n",
       "      <td>NaN</td>\n",
       "      <td>NaN</td>\n",
       "      <td>NaN</td>\n",
       "      <td>0</td>\n",
       "      <td>...</td>\n",
       "      <td>701742.0</td>\n",
       "      <td>680141.0</td>\n",
       "      <td>613936.0</td>\n",
       "      <td>666838.0</td>\n",
       "      <td>645125.0</td>\n",
       "      <td>414601.0</td>\n",
       "      <td>150889.0</td>\n",
       "      <td>37722.0</td>\n",
       "      <td>188612.0</td>\n",
       "      <td>20200103</td>\n",
       "    </tr>\n",
       "    <tr>\n",
       "      <th>3</th>\n",
       "      <td>485</td>\n",
       "      <td>2020-01-04</td>\n",
       "      <td>United States of America</td>\n",
       "      <td>Alabama</td>\n",
       "      <td>NaN</td>\n",
       "      <td>NaN</td>\n",
       "      <td>NaN</td>\n",
       "      <td>NaN</td>\n",
       "      <td>NaN</td>\n",
       "      <td>0</td>\n",
       "      <td>...</td>\n",
       "      <td>701742.0</td>\n",
       "      <td>680141.0</td>\n",
       "      <td>613936.0</td>\n",
       "      <td>666838.0</td>\n",
       "      <td>645125.0</td>\n",
       "      <td>414601.0</td>\n",
       "      <td>150889.0</td>\n",
       "      <td>37722.0</td>\n",
       "      <td>188612.0</td>\n",
       "      <td>20200104</td>\n",
       "    </tr>\n",
       "    <tr>\n",
       "      <th>4</th>\n",
       "      <td>486</td>\n",
       "      <td>2020-01-05</td>\n",
       "      <td>United States of America</td>\n",
       "      <td>Alabama</td>\n",
       "      <td>NaN</td>\n",
       "      <td>NaN</td>\n",
       "      <td>NaN</td>\n",
       "      <td>NaN</td>\n",
       "      <td>NaN</td>\n",
       "      <td>0</td>\n",
       "      <td>...</td>\n",
       "      <td>701742.0</td>\n",
       "      <td>680141.0</td>\n",
       "      <td>613936.0</td>\n",
       "      <td>666838.0</td>\n",
       "      <td>645125.0</td>\n",
       "      <td>414601.0</td>\n",
       "      <td>150889.0</td>\n",
       "      <td>37722.0</td>\n",
       "      <td>188612.0</td>\n",
       "      <td>20200105</td>\n",
       "    </tr>\n",
       "  </tbody>\n",
       "</table>\n",
       "<p>5 rows × 38 columns</p>\n",
       "</div>"
      ],
      "text/plain": [
       "   index        date              country_name subregion1_name  locality_name  \\\n",
       "0    482  2020-01-01  United States of America         Alabama            NaN   \n",
       "1    483  2020-01-02  United States of America         Alabama            NaN   \n",
       "2    484  2020-01-03  United States of America         Alabama            NaN   \n",
       "3    485  2020-01-04  United States of America         Alabama            NaN   \n",
       "4    486  2020-01-05  United States of America         Alabama            NaN   \n",
       "\n",
       "   new_confirmed  new_deceased  new_recovered  new_tested  total_confirmed  \\\n",
       "0            NaN           NaN            NaN         NaN                0   \n",
       "1            NaN           NaN            NaN         NaN                0   \n",
       "2            NaN           NaN            NaN         NaN                0   \n",
       "3            NaN           NaN            NaN         NaN                0   \n",
       "4            NaN           NaN            NaN         NaN                0   \n",
       "\n",
       "   ...  population_age_20_29  population_age_30_39  population_age_40_49  \\\n",
       "0  ...              701742.0              680141.0              613936.0   \n",
       "1  ...              701742.0              680141.0              613936.0   \n",
       "2  ...              701742.0              680141.0              613936.0   \n",
       "3  ...              701742.0              680141.0              613936.0   \n",
       "4  ...              701742.0              680141.0              613936.0   \n",
       "\n",
       "   population_age_50_59  population_age_60_69  population_age_70_79  \\\n",
       "0              666838.0              645125.0              414601.0   \n",
       "1              666838.0              645125.0              414601.0   \n",
       "2              666838.0              645125.0              414601.0   \n",
       "3              666838.0              645125.0              414601.0   \n",
       "4              666838.0              645125.0              414601.0   \n",
       "\n",
       "   population_age_80_89  population_age_90_99  population_age_80_and_older  \\\n",
       "0              150889.0               37722.0                     188612.0   \n",
       "1              150889.0               37722.0                     188612.0   \n",
       "2              150889.0               37722.0                     188612.0   \n",
       "3              150889.0               37722.0                     188612.0   \n",
       "4              150889.0               37722.0                     188612.0   \n",
       "\n",
       "   new_date  \n",
       "0  20200101  \n",
       "1  20200102  \n",
       "2  20200103  \n",
       "3  20200104  \n",
       "4  20200105  \n",
       "\n",
       "[5 rows x 38 columns]"
      ]
     },
     "execution_count": 6,
     "metadata": {},
     "output_type": "execute_result"
    }
   ],
   "source": [
    "new_date = []\n",
    "for i in range(df.shape[0]):\n",
    "    new_date.append(int(\"\".join(df.loc[i, 'date'].split('-'))))\n",
    "new_date\n",
    "df['new_date'] = new_date\n",
    "df.head()\n",
    "#df.dtypes\n"
   ]
  },
  {
   "cell_type": "code",
   "execution_count": 7,
   "metadata": {},
   "outputs": [],
   "source": [
    "i = 1\n",
    "ndays = []\n",
    "for n in range(df.shape[0]):\n",
    "    if i == 483:\n",
    "        i = 1\n",
    "        ndays.append(i)\n",
    "        i +=1\n",
    "    else: \n",
    "        ndays.append(i)\n",
    "        i += 1\n",
    "df['ndays'] = ndays\n"
   ]
  },
  {
   "cell_type": "code",
   "execution_count": 8,
   "metadata": {},
   "outputs": [],
   "source": [
    "states_by_indices = []\n",
    "i = 0\n",
    "\n",
    "for n in range(df.shape[0]):\n",
    "    if df.loc[n, 'subregion1_name'] == us_states.loc[i, 'states']:\n",
    "        states_by_indices.append(i)\n",
    "    else:\n",
    "        i += 1\n",
    "        states_by_indices.append(i)\n",
    "        \n",
    "states_by_indices\n",
    "\n",
    "\n",
    "\n",
    "dict = {}\n",
    "for i in us_states['states']:\n",
    "    dict[\"df_{0}\".format(i)] = df[df['subregion1_name'] == i]            #store the df_states inside a dictionary\n",
    "                                                                         #key is df_states, value is the dataframe associated with that state\n",
    "#dict[\"df_West Virginia\"]                                                 #example: dict[\"df_West Virginia\"] gets the dataframe for all rows with subregion1_name = West Virginia \n",
    "\n",
    "for key in dict:\n",
    "    dict[key] = dict[key].reset_index()                                  #reset the index of df_states for easier manipulation of data"
   ]
  },
  {
   "cell_type": "code",
   "execution_count": 9,
   "metadata": {},
   "outputs": [],
   "source": [
    "#from sklearn.linear_model import LinearRegression\n",
    "import matplotlib.pyplot as plt\n",
    "#model = LinearRegression()\n",
    "#X = dict['df_Alabama'][['new_date']]\n",
    "#Y = dict['df_Alabama']['total_confirmed']\n",
    "#model.fit(X,Y)"
   ]
  },
  {
   "cell_type": "code",
   "execution_count": 10,
   "metadata": {},
   "outputs": [],
   "source": [
    "class LinearRegression:\n",
    "    def __init__(self):\n",
    "        self.b = []\n",
    "        self.X = []\n",
    "        return\n",
    "        \n",
    "    \n",
    "    def fit(self, x, y, order):\n",
    "        self.index = 0\n",
    "        \n",
    "        self.X = np.c_[np.ones(len(x))]   #initialize X as a matrix having columns of ones. This corresponds to polynomial of order 0\n",
    "        while True:\n",
    "            if self.index < order and order != 0:                          #concatenate power of x to original matrices X\n",
    "                self.index += 1\n",
    "                self.X = np.c_[self.X, np.power(x, self.index)]\n",
    "            \n",
    "            else:\n",
    "                break\n",
    "        self.b = np.linalg.inv(self.X.T@self.X)@(self.X.T@y)           # w = (X^T*X)^-1*(X^T*y) Formula given in lecture\n",
    "        \n",
    "        \n",
    "        return self.X, self.b\n",
    "    \n",
    "    def predict(self, x):\n",
    "        \n",
    "        predict_array = self.X@self.b                  #prediction array is just X*w\n",
    "        \n",
    "        return predict_array\n",
    "    \n",
    "    \n",
    "    def mse(self, y, predict_array):\n",
    "        \n",
    "        self.mse_array = y - predict_array\n",
    "        \n",
    "        self.mse = np.power(self.mse_array, 2)\n",
    "        \n",
    "        return np.sum(self.mse)/len(y)"
   ]
  },
  {
   "cell_type": "code",
   "execution_count": 11,
   "metadata": {},
   "outputs": [
    {
     "data": {
      "text/plain": [
       "791133.5010716354"
      ]
     },
     "execution_count": 11,
     "metadata": {},
     "output_type": "execute_result"
    }
   ],
   "source": [
    "#Test on df_Alaska\n",
    "\n",
    "x = np.array(dict['df_Alaska']['ndays'][:480])\n",
    "y = np.array(dict['df_Alaska']['total_confirmed'][:480])\n",
    "model = LinearRegression()\n",
    "model.fit(x,y,300)                                                    #order of 300 is the best fit\n",
    "n = model.predict(x)\n",
    "model.mse(y, n)"
   ]
  },
  {
   "cell_type": "code",
   "execution_count": 12,
   "metadata": {},
   "outputs": [],
   "source": [
    "#plt.scatter(x,y, s = 5)\n",
    "#plt.plot(x,n, color = 'r')\n",
    "\n",
    "\n",
    "\n"
   ]
  },
  {
   "cell_type": "code",
   "execution_count": 13,
   "metadata": {},
   "outputs": [],
   "source": [
    "def StateLinearRegression(state):\n",
    "    for key in dict:\n",
    "        if dict[key]['subregion1_name'][0] == state:\n",
    "            df_state = dict[key]\n",
    "            break\n",
    "    x = np.array(df_state['ndays'][:480])\n",
    "    y = np.array(df_state['total_confirmed'][:480])                       #Used 479 samples as training set\n",
    "    model = LinearRegression()\n",
    "    model.fit(x,y,300)                                                    #order of 300 is the best fit\n",
    "    n = model.predict(x)\n",
    "    b = model.mse(y, n)\n",
    "    \n",
    "    plt.scatter(x,y, s = 5, color = 'k')\n",
    "    plt.plot(x,n, color = 'r')\n",
    "    plt.title(\"{} Covid-19 Cases\".format(state))\n",
    "    plt.xlabel(\"Days\")\n",
    "    plt.ylabel(\"Total Confirmed Cases\")\n",
    "    plt.show()\n",
    "    \n",
    "    return b\n",
    "    \n",
    "    \n",
    "    "
   ]
  },
  {
   "cell_type": "code",
   "execution_count": 14,
   "metadata": {},
   "outputs": [
    {
     "data": {
      "image/png": "[encoded data removed]",
      "text/plain": [
       "<Figure size 432x288 with 1 Axes>"
      ]
     },
     "metadata": {
      "needs_background": "light"
     },
     "output_type": "display_data"
    }
   ],
   "source": [
    "Alaska_MSE = StateLinearRegression(\"Alaska\")\n"
   ]
  },
  {
   "cell_type": "code",
   "execution_count": 15,
   "metadata": {},
   "outputs": [
    {
     "name": "stdout",
     "output_type": "stream",
     "text": [
      "The Mean Square Error is 791133.5010716354\n"
     ]
    }
   ],
   "source": [
    "print('The Mean Square Error is', Alaska_MSE)"
   ]
  },
  {
   "cell_type": "code",
   "execution_count": null,
   "metadata": {},
   "outputs": [],
   "source": []
  },
  {
   "cell_type": "code",
   "execution_count": null,
   "metadata": {},
   "outputs": [],
   "source": []
  },
  {
   "cell_type": "code",
   "execution_count": null,
   "metadata": {},
   "outputs": [],
   "source": []
  },
  {
   "cell_type": "code",
   "execution_count": null,
   "metadata": {},
   "outputs": [],
   "source": []
  },
  {
   "cell_type": "code",
   "execution_count": null,
   "metadata": {},
   "outputs": [],
   "source": []
  }
 ],
 "metadata": {
  "kernelspec": {
   "display_name": "Python 3",
   "language": "python",
   "name": "python3"
  },
  "language_info": {
   "codemirror_mode": {
    "name": "ipython",
    "version": 3
   },
   "file_extension": ".py",
   "mimetype": "text/x-python",
   "name": "python",
   "nbconvert_exporter": "python",
   "pygments_lexer": "ipython3",
   "version": "3.8.5"
  }
 },
 "nbformat": 4,
 "nbformat_minor": 4
}
