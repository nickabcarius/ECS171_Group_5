{
 "cells": [
  {
   "cell_type": "code",
   "execution_count": 1,
   "metadata": {},
   "outputs": [
    {
     "ename": "ModuleNotFoundError",
     "evalue": "No module named 'fbprophet'",
     "output_type": "error",
     "traceback": [
      "\u001b[0;31m---------------------------------------------------------------------------\u001b[0m",
      "\u001b[0;31mModuleNotFoundError\u001b[0m                       Traceback (most recent call last)",
      "\u001b[0;32m<ipython-input-1-e28c0f53ee0b>\u001b[0m in \u001b[0;36m<module>\u001b[0;34m\u001b[0m\n\u001b[1;32m      3\u001b[0m \u001b[0;32mimport\u001b[0m \u001b[0mmath\u001b[0m\u001b[0;34m\u001b[0m\u001b[0;34m\u001b[0m\u001b[0m\n\u001b[1;32m      4\u001b[0m \u001b[0;32mimport\u001b[0m \u001b[0mmatplotlib\u001b[0m\u001b[0;34m.\u001b[0m\u001b[0mpyplot\u001b[0m \u001b[0;32mas\u001b[0m \u001b[0mplt\u001b[0m\u001b[0;34m\u001b[0m\u001b[0;34m\u001b[0m\u001b[0m\n\u001b[0;32m----> 5\u001b[0;31m \u001b[0;32mimport\u001b[0m \u001b[0mfbprophet\u001b[0m\u001b[0;34m\u001b[0m\u001b[0;34m\u001b[0m\u001b[0m\n\u001b[0m\u001b[1;32m      6\u001b[0m \u001b[0;32mfrom\u001b[0m \u001b[0mfbprophet\u001b[0m \u001b[0;32mimport\u001b[0m \u001b[0mProphet\u001b[0m\u001b[0;34m\u001b[0m\u001b[0;34m\u001b[0m\u001b[0m\n\u001b[1;32m      7\u001b[0m \u001b[0;32mfrom\u001b[0m \u001b[0mdatetime\u001b[0m \u001b[0;32mimport\u001b[0m \u001b[0mdate\u001b[0m\u001b[0;34m,\u001b[0m\u001b[0mtimedelta\u001b[0m\u001b[0;34m\u001b[0m\u001b[0;34m\u001b[0m\u001b[0m\n",
      "\u001b[0;31mModuleNotFoundError\u001b[0m: No module named 'fbprophet'"
     ]
    }
   ],
   "source": [
    "import pandas as pd\n",
    "import numpy as np\n",
    "import math\n",
    "import matplotlib.pyplot as plt\n",
    "import fbprophet\n",
    "from fbprophet import Prophet\n",
    "from datetime import date,timedelta\n",
    "\n",
    "df = pd.read_csv('covid_us.csv')\n",
    "df.drop(labels = \"Unnamed: 0\", axis = 1, inplace = True)\n",
    "\n",
    "plt.rcParams['figure.figsize']=(12,6)\n",
    "plt.style.use('ggplot')"
   ]
  },
  {
   "cell_type": "code",
   "execution_count": null,
   "metadata": {},
   "outputs": [],
   "source": [
    "df_American_Samoa = df[df['subregion1_name'] == 'American Samoa'].index.tolist()\n",
    "df_District_of_Columbia = df[df['subregion1_name'] == 'District of Columbia'].index.tolist()\n",
    "df_Guam = df[df['subregion1_name'] == 'Guam'].index.tolist()\n",
    "df_Northern_Mariana_Islands = df[df['subregion1_name'] == 'Northern Mariana Islands'].index.tolist()\n",
    "df_Puerto_Rico = df[df['subregion1_name'] == 'Puerto Rico'].index.tolist()\n",
    "df_Virgin_Islands = df[df['subregion1_name'] == 'Virgin Islands'].index.tolist()\n",
    "df.drop(df_American_Samoa, inplace = True)\n",
    "df.drop(df_District_of_Columbia, inplace = True)\n",
    "df.drop(df_Guam, inplace = True)\n",
    "df.drop(df_Northern_Mariana_Islands, inplace = True)\n",
    "df.drop(df_Puerto_Rico, inplace = True)\n",
    "df.drop(df_Virgin_Islands, inplace = True)\n",
    "\n",
    "\n",
    "#remove all subregion1_name not in 50 states"
   ]
  },
  {
   "cell_type": "code",
   "execution_count": null,
   "metadata": {},
   "outputs": [],
   "source": [
    "x = sorted(df['subregion1_name'].unique())\n",
    "d = {'states' : x}\n",
    "us_states = pd.DataFrame(data = d)\n",
    "\n",
    "df = df.sort_values(['subregion1_name', 'date'])\n",
    "df.reset_index(inplace = True)\n",
    "\n",
    "#df.dtypes"
   ]
  },
  {
   "cell_type": "code",
   "execution_count": null,
   "metadata": {},
   "outputs": [],
   "source": [
    "df = df.fillna(0)                                               #replace all columns with NA in df to 0\n",
    "\n",
    "\n",
    "#df['total_tested'] = df['total_tested'].fillna(0) \n",
    "df['total_confirmed'] = df['total_confirmed'].astype(np.int64)\n",
    "\n"
   ]
  },
  {
   "cell_type": "code",
   "execution_count": null,
   "metadata": {},
   "outputs": [],
   "source": [
    "new_date = []\n",
    "for i in range(df.shape[0]):\n",
    "    new_date.append(int(\"\".join(df.loc[i, 'date'].split('-'))))\n",
    "new_date\n",
    "df['new_date'] = new_date\n",
    "\n",
    "#df.head()\n",
    "#df.dtypes"
   ]
  },
  {
   "cell_type": "code",
   "execution_count": null,
   "metadata": {},
   "outputs": [],
   "source": [
    "i = 1\n",
    "ndays = []\n",
    "for n in range(df.shape[0]):\n",
    "    if i == 483:\n",
    "        i = 1\n",
    "        ndays.append(i)\n",
    "        i +=1\n",
    "    else: \n",
    "        ndays.append(i)\n",
    "        i += 1\n",
    "df['ndays'] = ndays\n",
    "df['date'] = pd.to_datetime(df['date'])\n",
    "\n"
   ]
  },
  {
   "cell_type": "code",
   "execution_count": null,
   "metadata": {},
   "outputs": [],
   "source": [
    "states_by_indices = []\n",
    "i = 0\n",
    "\n",
    "for n in range(df.shape[0]):\n",
    "    if df.loc[n, 'subregion1_name'] == us_states.loc[i, 'states']:\n",
    "        states_by_indices.append(i)\n",
    "    else:\n",
    "        i += 1\n",
    "        states_by_indices.append(i)\n",
    "        \n",
    "states_by_indices\n",
    "\n",
    "\n",
    "dict = {}\n",
    "for i in us_states['states']:\n",
    "    dict[\"df_{0}\".format(i)] = df[df['subregion1_name'] == i]            #store the df_states inside a dictionary\n",
    "                                                                         #key is df_states, value is the dataframe associated with that state\n",
    "#dict[\"df_West Virginia\"]                                                 #example: dict[\"df_West Virginia\"] gets the dataframe for all rows with subregion1_name = West Virginia \n",
    "\n",
    "for key in dict:\n",
    "    dict[key] = dict[key].reset_index()                                  #reset the index of df_states for easier manipulation of data"
   ]
  },
  {
   "cell_type": "code",
   "execution_count": null,
   "metadata": {},
   "outputs": [],
   "source": [
    "class LinearRegression:\n",
    "    def __init__(self):\n",
    "        self.b = []\n",
    "        self.X = []     \n",
    "        return      \n",
    "    \n",
    "    def fit(self, x, y, order): \n",
    "        \n",
    "        self.index = 0\n",
    "        \n",
    "        self.X = np.c_[np.ones(len(x))]   #initialize X as a matrix having columns of ones. This corresponds to polynomial of order 0\n",
    "        while True:\n",
    "            if self.index < order and order != 0:                          #concatenate power of x to original matrices X\n",
    "                self.index += 1\n",
    "                self.X = np.c_[self.X, np.power(x, self.index)]\n",
    "            \n",
    "            else:\n",
    "                break\n",
    "        self.b = np.linalg.inv(self.X.T@self.X)@(self.X.T@y)           # w = (X^T*X)^-1*(X^T*y) Formula given in lecture\n",
    "        \n",
    "        \n",
    "        return self.X, self.b\n",
    "    \n",
    "    def predict(self):\n",
    "        \n",
    "        predict_array = self.X@self.b                  #prediction array is just X*w\n",
    "        \n",
    "        return predict_array\n",
    "    \n",
    "    def mse(self, y, predict_array):\n",
    "        \n",
    "        self.mse_array = y - predict_array\n",
    "        \n",
    "        self.mse = np.power(self.mse_array, 2)\n",
    "        \n",
    "        return np.sum(self.mse)/len(y)"
   ]
  },
  {
   "cell_type": "code",
   "execution_count": null,
   "metadata": {},
   "outputs": [],
   "source": [
    "def FitOrder(x,y):                                                #optimization for finding the order that corresponds with minimum mse\n",
    "    new_order = []\n",
    "    for i in range(310):\n",
    "        linear = LinearRegression()\n",
    "        linear.fit(x,y,i)\n",
    "        prediction = linear.predict()\n",
    "        new_order.append(linear.mse(y,prediction))\n",
    "    index_order = new_order.index(min(new_order))\n",
    "    return index_order"
   ]
  },
  {
   "cell_type": "code",
   "execution_count": null,
   "metadata": {},
   "outputs": [],
   "source": [
    "def StateLinearRegression(state, input_col, start_day, end_day):\n",
    "    for key in dict:\n",
    "        if dict[key]['subregion1_name'][0] == state:\n",
    "            df_state = dict[key]\n",
    "            break\n",
    "    x = np.array(df_state['ndays'][start_day:end_day+1])\n",
    "    \n",
    "    for i in list(df.columns):\n",
    "        if i == input_col:\n",
    "            y = np.array(df_state[i][start_day:end_day+1])\n",
    "            break\n",
    "    #y = np.array(df_state['total_confirmed'][:480])\n",
    "    order = FitOrder(x,y)                                                                            #Used 400 samples as training set\n",
    "    model = LinearRegression()\n",
    "    model.fit(x,y,order)                                                                         \n",
    "    n = model.predict()\n",
    "    b = model.mse(y, n)\n",
    "    \n",
    "    plt.rcParams['figure.figsize'] = (12,6)\n",
    "    plt.scatter(x,y, s = 5, color = 'tab:blue')\n",
    "    plt.plot(x,n, color = 'r')\n",
    "    plt.ticklabel_format(style = 'plain')\n",
    "    plt.xticks(np.arange(0, max(x)+1, 20))\n",
    "    plt.xlabel('Days')\n",
    "    plt.ylabel(input_col)\n",
    "    plt.title(\"{} Covid-19 Cases\".format(state))\n",
    "    plt.show()\n",
    "    \n",
    "    return b, order\n",
    "    "
   ]
  },
  {
   "cell_type": "code",
   "execution_count": null,
   "metadata": {},
   "outputs": [],
   "source": [
    "hello = StateLinearRegression(\"New York\", 'total_confirmed', 0, 400)"
   ]
  },
  {
   "cell_type": "code",
   "execution_count": null,
   "metadata": {},
   "outputs": [],
   "source": [
    "print(\"The Mean Square Error is\", hello[0], 'and the order of fit is', hello[1])"
   ]
  },
  {
   "cell_type": "code",
   "execution_count": null,
   "metadata": {},
   "outputs": [],
   "source": [
    "def PlotBar(state, input_col, start_day, end_day):\n",
    "    for key in dict:\n",
    "        if dict[key]['subregion1_name'][0] == state:\n",
    "            df_state = dict[key]\n",
    "            break\n",
    "    x = np.array(df_state['ndays'][start_day:end_day+1])\n",
    "    y = np.array(df_state[input_col][start_day:end_day+1])\n",
    "        \n",
    "    plt.rcParams['figure.figsize'] = (12,6)\n",
    "    plt.bar(list(x), list(y), color='tab:blue')\n",
    "    plt.xticks(np.arange(0, max(x)+1, 20))\n",
    "    plt.xlabel('Days', size = 10)\n",
    "    plt.ylabel(input_col, size = 10)\n",
    "    plt.title(\"{0}'s Bar plot of Days vs {1}\".format(state, input_col), size = 10)\n",
    "    plt.show()\n",
    "    "
   ]
  },
  {
   "cell_type": "code",
   "execution_count": null,
   "metadata": {},
   "outputs": [],
   "source": [
    "PlotBar(\"Alaska\", 'current_hospitalized', 1, 400)"
   ]
  },
  {
   "cell_type": "code",
   "execution_count": null,
   "metadata": {},
   "outputs": [],
   "source": [
    "def BarAndRegression(state, input_col, start_day, end_day):\n",
    "    PlotBar(state, input_col, start_day, end_day)\n",
    "    for key in dict:\n",
    "        if dict[key]['subregion1_name'][0] == state:\n",
    "            df_state = dict[key]\n",
    "            break\n",
    "    x = np.array(df_state['ndays'][start_day:end_day+1])\n",
    "    y = np.array(df_state[input_col][start_day:end_day+1])\n",
    "    \n",
    "    order = FitOrder(x,y)\n",
    "    model = LinearRegression()\n",
    "    model.fit(x,y,order)                                                                         \n",
    "    n = model.predict()\n",
    "    plt.plot(x,n, color = 'r')\n",
    "    plt.title(\"{0}'s Bar plot and Regression of Days vs {1}\".format(state, input_col), size = 10)\n",
    "    plt.show()"
   ]
  },
  {
   "cell_type": "code",
   "execution_count": null,
   "metadata": {},
   "outputs": [],
   "source": [
    "BarAndRegression(\"Alaska\", 'current_hospitalized', 200, 400)"
   ]
  },
  {
   "cell_type": "code",
   "execution_count": null,
   "metadata": {},
   "outputs": [],
   "source": [
    "def Stateinfo(state, day):                                         #Display the info at a specific state and day\n",
    "    for key in dict:\n",
    "        if dict[key]['subregion1_name'][0] == state:\n",
    "            df_state = dict[key]\n",
    "            break\n",
    "    df_new = df_state[df_state['ndays']==day ]\n",
    "    #df_new = pd.DataFrame.transpose(df_new)\n",
    "    df_new = df_new.T\n",
    "    df_new.rename({day-1:state}, axis = 1, inplace = True) \n",
    "    \n",
    "    df_new.drop('level_0', inplace = True)\n",
    "    df_new.drop('country_name', inplace = True)\n",
    "    df_new.drop('index', inplace = True)\n",
    "    df_new.drop('new_date', inplace = True)\n",
    "    df_new.drop('population_age_00_09', inplace = True)\n",
    "    df_new.drop('population_age_10_19', inplace = True)\n",
    "    df_new.drop('population_age_20_29', inplace = True)\n",
    "    df_new.drop('population_age_30_39', inplace = True)\n",
    "    df_new.drop('population_age_40_49', inplace = True)\n",
    "    df_new.drop('population_age_50_59', inplace = True)\n",
    "    df_new.drop('population_age_60_69', inplace = True)\n",
    "    df_new.drop('population_age_70_79', inplace = True)\n",
    "    df_new.drop('population_age_80_89', inplace = True)\n",
    "    df_new.drop('population_age_90_99', inplace = True)\n",
    "    df_new.drop('population_age_80_and_older', inplace = True)\n",
    "    df_new.drop('locality_name', inplace = True)\n",
    "    df_new.drop('subregion1_name', inplace = True)\n",
    "    df_new.drop('population_male', inplace = True)\n",
    "    df_new.drop('population_female', inplace = True)\n",
    "    df_new = df_new[df_new[state]!=0]\n",
    "    \n",
    "    return df_new"
   ]
  },
  {
   "cell_type": "code",
   "execution_count": null,
   "metadata": {},
   "outputs": [],
   "source": [
    "Stateinfo('New York', 100)"
   ]
  },
  {
   "cell_type": "code",
   "execution_count": null,
   "metadata": {},
   "outputs": [],
   "source": [
    "class TimeSeriesForecast:\n",
    "    \n",
    "    def __init__(self):    \n",
    "        \n",
    "        self.viz_df =[]\n",
    "        self.last_date = []\n",
    "        self.df_state = []\n",
    "        self.prediction = []\n",
    "        self.forecast = []\n",
    "        self.state = []\n",
    "        self.input_col = []\n",
    "        \n",
    "        return   \n",
    "   \n",
    "    def Statepredict(self, state, input_col):\n",
    "        for key in dict:\n",
    "            if dict[key]['subregion1_name'][0] == state:\n",
    "                self.df_state = dict[key]\n",
    "                break\n",
    "        \n",
    "        self.state = state\n",
    "        self.input_col = input_col\n",
    "        self.df_state = self.df_state = self.df_state[['date', input_col]]\n",
    "        self.df_state.columns = ['ds', 'y']\n",
    "        model = Prophet()\n",
    "        model.fit(self.df_state) \n",
    "        future_dates = model.make_future_dataframe(periods = 100)          #adding 100 days/datetime to the dataframe\n",
    "        self.prediction = model.predict(future_dates)\n",
    "        self.df_state.set_index('ds', inplace=True)\n",
    "        self.last_date = self.df_state.index[-1]\n",
    "        self.prediction.set_index('ds', inplace=True)\n",
    "        self.df_table = self.df_state.join(self.prediction[['yhat', 'yhat_lower','yhat_upper']], how = 'outer')\n",
    "    \n",
    "    def plot_data(self):\n",
    "        self.last_date = self.last_date - timedelta(weeks=4) \n",
    "        forecast_index= (self.df_table.index > self.last_date) #  pull out the predicted/forecast rows of data.\n",
    "        self.forecast = self.df_table.loc[forecast_index]       # create a new dataframe with predicted/forecast data.\n",
    "        \n",
    "        fig, ax1 = plt.subplots()\n",
    "        ax1.ticklabel_format(useOffset=False, style='plain')\n",
    "        ax1.plot(self.df_state.y[:453])\n",
    "        ax1.plot(self.prediction.yhat)\n",
    "        ax1.plot(self.forecast.yhat, color='purple')\n",
    "        \n",
    "        ax1.fill_between(self.forecast.index, self.forecast['yhat_upper'], self.forecast['yhat_lower'], alpha=0.5, color='darkgrey')\n",
    "        \n",
    "        ax1.set_ylabel(self.input_col)\n",
    "        ax1.set_xlabel('Date')\n",
    "        ax1.set_title(\"{0}: Datetime vs {1} forecast plot\".format(self.state, self.input_col))\n",
    "        ax1.legend(['original data', 'prediction', 'forecast']) \n",
    "    "
   ]
  },
  {
   "cell_type": "code",
   "execution_count": null,
   "metadata": {},
   "outputs": [],
   "source": [
    "def CallTimeSeriesForecast(state, input_col):\n",
    "    mod = TimeSeriesForecast()\n",
    "    mod.Statepredict(state, input_col)\n",
    "    mod.plot_data()\n",
    "    return mod.prediction"
   ]
  },
  {
   "cell_type": "code",
   "execution_count": null,
   "metadata": {},
   "outputs": [],
   "source": [
    "model = CallTimeSeriesForecast('New York', 'total_confirmed')"
   ]
  },
  {
   "cell_type": "code",
   "execution_count": null,
   "metadata": {},
   "outputs": [],
   "source": [
    "# import numpy as np, pandas as pd\n",
    "# from statsmodels.graphics.tsaplots import plot_acf, plot_pacf\n",
    "# import matplotlib.pyplot as plt\n",
    "# plt.rcParams.update({'figure.figsize':(9,7), 'figure.dpi':120})\n",
    "\n",
    "# # Original Series\n",
    "# fig, axes = plt.subplots(3, 2, sharex=True)\n",
    "# axes[0, 0].plot(df.value); axes[0, 0].set_title('Original Series')\n",
    "# plot_acf(df.value, ax=axes[0, 1])\n",
    "\n",
    "# # 1st Differencing\n",
    "# axes[1, 0].plot(df.value.diff()); axes[1, 0].set_title('1st Order Differencing')\n",
    "# plot_acf(df.value.diff().dropna(), ax=axes[1, 1])\n",
    "\n",
    "# # 2nd Differencing\n",
    "# axes[2, 0].plot(df.value.diff().diff()); axes[2, 0].set_title('2nd Order Differencing')\n",
    "# plot_acf(df.value.diff().diff().dropna(), ax=axes[2, 1])\n",
    "\n",
    "# plt.show()\n"
   ]
  },
  {
   "cell_type": "code",
   "execution_count": null,
   "metadata": {},
   "outputs": [],
   "source": []
  },
  {
   "cell_type": "code",
   "execution_count": null,
   "metadata": {},
   "outputs": [],
   "source": []
  }
 ],
 "metadata": {
  "kernelspec": {
   "display_name": "Python 3",
   "language": "python",
   "name": "python3"
  },
  "language_info": {
   "codemirror_mode": {
    "name": "ipython",
    "version": 3
   },
   "file_extension": ".py",
   "mimetype": "text/x-python",
   "name": "python",
   "nbconvert_exporter": "python",
   "pygments_lexer": "ipython3",
   "version": "3.8.5"
  }
 },
 "nbformat": 4,
 "nbformat_minor": 4
}
