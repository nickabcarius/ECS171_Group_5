{
 "cells": [
  {
   "cell_type": "code",
   "execution_count": 1,
   "metadata": {},
   "outputs": [],
   "source": [
    "import pandas as pd\n",
    "import numpy as np\n",
    "import math\n",
    "import matplotlib.pyplot as plt\n",
    "\n",
    "df = pd.read_csv('covid_us.csv')\n",
    "df.drop(labels = \"Unnamed: 0\", axis = 1, inplace = True)"
   ]
  },
  {
   "cell_type": "code",
   "execution_count": 2,
   "metadata": {},
   "outputs": [],
   "source": [
    "df_American_Samoa = df[df['subregion1_name'] == 'American Samoa'].index.tolist()\n",
    "df_District_of_Columbia = df[df['subregion1_name'] == 'District of Columbia'].index.tolist()\n",
    "df_Guam = df[df['subregion1_name'] == 'Guam'].index.tolist()\n",
    "df_Northern_Mariana_Islands = df[df['subregion1_name'] == 'Northern Mariana Islands'].index.tolist()\n",
    "df_Puerto_Rico = df[df['subregion1_name'] == 'Puerto Rico'].index.tolist()\n",
    "df_Virgin_Islands = df[df['subregion1_name'] == 'Virgin Islands'].index.tolist()\n",
    "df.drop(df_American_Samoa, inplace = True)\n",
    "df.drop(df_District_of_Columbia, inplace = True)\n",
    "df.drop(df_Guam, inplace = True)\n",
    "df.drop(df_Northern_Mariana_Islands, inplace = True)\n",
    "df.drop(df_Puerto_Rico, inplace = True)\n",
    "df.drop(df_Virgin_Islands, inplace = True)\n",
    "\n",
    "\n",
    "#remove all subregion1_name not in 50 states"
   ]
  },
  {
   "cell_type": "code",
   "execution_count": 3,
   "metadata": {},
   "outputs": [],
   "source": [
    "x = sorted(df['subregion1_name'].unique())\n",
    "d = {'states' : x}\n",
    "us_states = pd.DataFrame(data = d)\n",
    "\n",
    "df = df.sort_values(['subregion1_name', 'date'])\n",
    "df.reset_index(inplace = True)\n",
    "\n",
    "#df.dtypes"
   ]
  },
  {
   "cell_type": "code",
   "execution_count": 4,
   "metadata": {},
   "outputs": [],
   "source": [
    "df = df.fillna(0) \n",
    "#df['total_confirmed'] = df['total_confirmed'].fillna(0)               #Replace NA with 0 for total confirmed column\n",
    "#df['total_deceased'] = df['total_deceased'].fillna(0) \n",
    "#df['total_recovered'] = df['total_recovered'].fillna(0) \n",
    "#df['total_tested'] = df['total_tested'].fillna(0) \n",
    "df['total_confirmed'] = df['total_confirmed'].astype(np.int64)\n",
    "\n"
   ]
  },
  {
   "cell_type": "code",
   "execution_count": 5,
   "metadata": {},
   "outputs": [],
   "source": [
    "new_date = []\n",
    "for i in range(df.shape[0]):\n",
    "    new_date.append(int(\"\".join(df.loc[i, 'date'].split('-'))))\n",
    "new_date\n",
    "df['new_date'] = new_date\n",
    "#df.head()\n",
    "#df.dtypes"
   ]
  },
  {
   "cell_type": "code",
   "execution_count": 6,
   "metadata": {},
   "outputs": [],
   "source": [
    "i = 1\n",
    "ndays = []\n",
    "for n in range(df.shape[0]):\n",
    "    if i == 483:\n",
    "        i = 1\n",
    "        ndays.append(i)\n",
    "        i +=1\n",
    "    else: \n",
    "        ndays.append(i)\n",
    "        i += 1\n",
    "df['ndays'] = ndays\n"
   ]
  },
  {
   "cell_type": "code",
   "execution_count": 7,
   "metadata": {},
   "outputs": [],
   "source": [
    "states_by_indices = []\n",
    "i = 0\n",
    "\n",
    "for n in range(df.shape[0]):\n",
    "    if df.loc[n, 'subregion1_name'] == us_states.loc[i, 'states']:\n",
    "        states_by_indices.append(i)\n",
    "    else:\n",
    "        i += 1\n",
    "        states_by_indices.append(i)\n",
    "        \n",
    "states_by_indices\n",
    "\n",
    "\n",
    "\n",
    "dict = {}\n",
    "for i in us_states['states']:\n",
    "    dict[\"df_{0}\".format(i)] = df[df['subregion1_name'] == i]            #store the df_states inside a dictionary\n",
    "                                                                         #key is df_states, value is the dataframe associated with that state\n",
    "#dict[\"df_West Virginia\"]                                                 #example: dict[\"df_West Virginia\"] gets the dataframe for all rows with subregion1_name = West Virginia \n",
    "\n",
    "for key in dict:\n",
    "    dict[key] = dict[key].reset_index()                                  #reset the index of df_states for easier manipulation of data"
   ]
  },
  {
   "cell_type": "code",
   "execution_count": 8,
   "metadata": {},
   "outputs": [],
   "source": [
    "class LinearRegression:\n",
    "    def __init__(self):\n",
    "        self.b = []\n",
    "        self.X = []\n",
    "        \n",
    "        return\n",
    "        \n",
    "    \n",
    "    def fit(self, x, y, order):\n",
    "        \n",
    "        \n",
    "        self.index = 0\n",
    "        \n",
    "        self.X = np.c_[np.ones(len(x))]   #initialize X as a matrix having columns of ones. This corresponds to polynomial of order 0\n",
    "        while True:\n",
    "            if self.index < order and order != 0:                          #concatenate power of x to original matrices X\n",
    "                self.index += 1\n",
    "                self.X = np.c_[self.X, np.power(x, self.index)]\n",
    "            \n",
    "            else:\n",
    "                break\n",
    "        self.b = np.linalg.inv(self.X.T@self.X)@(self.X.T@y)           # w = (X^T*X)^-1*(X^T*y) Formula given in lecture\n",
    "        \n",
    "        \n",
    "        return self.X, self.b\n",
    "    \n",
    "    def predict(self):\n",
    "        \n",
    "        predict_array = self.X@self.b                  #prediction array is just X*w\n",
    "        \n",
    "        return predict_array\n",
    "    \n",
    "    def mse(self, y, predict_array):\n",
    "        \n",
    "        self.mse_array = y - predict_array\n",
    "        \n",
    "        self.mse = np.power(self.mse_array, 2)\n",
    "        \n",
    "        return np.sum(self.mse)/len(y)"
   ]
  },
  {
   "cell_type": "code",
   "execution_count": 9,
   "metadata": {},
   "outputs": [],
   "source": [
    "def FitOrder(x,y):                                                #optimization for finding the order that corresponds with minimum mse\n",
    "    new_order = []\n",
    "    for i in range(310):\n",
    "        linear  = LinearRegression()\n",
    "        linear.fit(x,y,i)\n",
    "        prediction = linear.predict()\n",
    "        new_order.append(linear.mse(y,prediction))\n",
    "    index_order = new_order.index(min(new_order))\n",
    "    return index_order"
   ]
  },
  {
   "cell_type": "code",
   "execution_count": 10,
   "metadata": {},
   "outputs": [],
   "source": [
    "def StateLinearRegression(state, input_col):\n",
    "    for key in dict:\n",
    "        if dict[key]['subregion1_name'][0] == state:\n",
    "            df_state = dict[key]\n",
    "            break\n",
    "    x = np.array(df_state['ndays'][:400])\n",
    "    \n",
    "    for i in list(df.columns):\n",
    "        if i == input_col:\n",
    "            y = np.array(df_state[i][:400])\n",
    "            break\n",
    "    #y = np.array(df_state['total_confirmed'][:480])\n",
    "    order = FitOrder(x,y)                                                                            #Used 400 samples as training set\n",
    "    model = LinearRegression()\n",
    "    model.fit(x,y,order)                                                                         \n",
    "    n = model.predict()\n",
    "    b = model.mse(y, n)\n",
    "    \n",
    "    plt.scatter(x,y, s = 5)\n",
    "    plt.plot(x,n, color = 'r')\n",
    "    plt.ticklabel_format(style = 'plain')\n",
    "    plt.xlabel('Days')\n",
    "    plt.ylabel(input_col)\n",
    "    plt.title(\"{} Covid-19 Cases\".format(state))\n",
    "    \n",
    "    return b, order\n",
    "    "
   ]
  },
  {
   "cell_type": "code",
   "execution_count": 11,
   "metadata": {},
   "outputs": [
    {
     "data": {
      "image/png": "[encoded data removed]",
      "text/plain": [
       "<Figure size 432x288 with 1 Axes>"
      ]
     },
     "metadata": {
      "needs_background": "light"
     },
     "output_type": "display_data"
    }
   ],
   "source": [
    "hello = StateLinearRegression(\"New York\", 'total_confirmed')\n"
   ]
  },
  {
   "cell_type": "code",
   "execution_count": 12,
   "metadata": {},
   "outputs": [
    {
     "name": "stdout",
     "output_type": "stream",
     "text": [
      "The Mean Square Error is 226851231.49686965 and the order of fit is 260\n"
     ]
    }
   ],
   "source": [
    "print(\"The Mean Square Error is\", hello[0], 'and the order of fit is', hello[1])"
   ]
  },
  {
   "cell_type": "code",
   "execution_count": 13,
   "metadata": {},
   "outputs": [
    {
     "data": {
      "text/plain": [
       "(226851231.49686965, 260)"
      ]
     },
     "execution_count": 13,
     "metadata": {},
     "output_type": "execute_result"
    }
   ],
   "source": [
    "hello"
   ]
  },
  {
   "cell_type": "code",
   "execution_count": null,
   "metadata": {},
   "outputs": [],
   "source": []
  },
  {
   "cell_type": "code",
   "execution_count": null,
   "metadata": {},
   "outputs": [],
   "source": []
  },
  {
   "cell_type": "code",
   "execution_count": null,
   "metadata": {},
   "outputs": [],
   "source": []
  }
 ],
 "metadata": {
  "kernelspec": {
   "display_name": "Python 3",
   "language": "python",
   "name": "python3"
  },
  "language_info": {
   "codemirror_mode": {
    "name": "ipython",
    "version": 3
   },
   "file_extension": ".py",
   "mimetype": "text/x-python",
   "name": "python",
   "nbconvert_exporter": "python",
   "pygments_lexer": "ipython3",
   "version": "3.8.5"
  }
 },
 "nbformat": 4,
 "nbformat_minor": 4
}
